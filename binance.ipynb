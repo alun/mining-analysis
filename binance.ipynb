{
 "cells": [
  {
   "cell_type": "code",
   "execution_count": 10,
   "metadata": {},
   "outputs": [],
   "source": [
    "import requests\n",
    "import pandas as pd"
   ]
  },
  {
   "cell_type": "code",
   "execution_count": 88,
   "metadata": {},
   "outputs": [],
   "source": [
    "\n",
    "\n",
    "URL = 'https://www.binance.com/bapi/futures/v1/public/delivery/common/get-funding-rate-history'\n",
    "# URL = 'https://www.binance.com/bapi/futures/v1/public/future/common/get-funding-rate-history'\n",
    "SYMBOL = 'ETHUSD_PERP'\n",
    "\n",
    "def load_funding_history(symbol, page=1, rows=1000):\n",
    "  r = requests.post(\n",
    "    URL,\n",
    "    json={\"symbol\":symbol, \"page\":page,\"rows\":rows}\n",
    "  )\n",
    "\n",
    "  df= pd.DataFrame(r.json()['data'])\n",
    "  df.calcTime = pd.to_datetime(df.calcTime, unit='ms')\n",
    "  df.lastFundingRate = pd.to_numeric(df.lastFundingRate)\n",
    "  df.set_index('calcTime', inplace=True)\n",
    "\n",
    "  return df\n"
   ]
  },
  {
   "cell_type": "code",
   "execution_count": 89,
   "metadata": {},
   "outputs": [
    {
     "name": "stdout",
     "output_type": "stream",
     "text": [
      "0.30780779999999996\n",
      "2020-08-18 08:00:00 2022-01-11 16:00:00.011000\n"
     ]
    },
    {
     "data": {
      "text/html": [
       "<div>\n",
       "<style scoped>\n",
       "    .dataframe tbody tr th:only-of-type {\n",
       "        vertical-align: middle;\n",
       "    }\n",
       "\n",
       "    .dataframe tbody tr th {\n",
       "        vertical-align: top;\n",
       "    }\n",
       "\n",
       "    .dataframe thead th {\n",
       "        text-align: right;\n",
       "    }\n",
       "</style>\n",
       "<table border=\"1\" class=\"dataframe\">\n",
       "  <thead>\n",
       "    <tr style=\"text-align: right;\">\n",
       "      <th></th>\n",
       "      <th>symbol</th>\n",
       "      <th>fundingIntervalHours</th>\n",
       "      <th>lastFundingRate</th>\n",
       "    </tr>\n",
       "    <tr>\n",
       "      <th>calcTime</th>\n",
       "      <th></th>\n",
       "      <th></th>\n",
       "      <th></th>\n",
       "    </tr>\n",
       "  </thead>\n",
       "  <tbody>\n",
       "    <tr>\n",
       "      <th>2022-01-11 16:00:00.011</th>\n",
       "      <td>ETHUSD_PERP</td>\n",
       "      <td>8</td>\n",
       "      <td>-0.000077</td>\n",
       "    </tr>\n",
       "    <tr>\n",
       "      <th>2022-01-11 08:00:00.000</th>\n",
       "      <td>ETHUSD_PERP</td>\n",
       "      <td>8</td>\n",
       "      <td>0.000024</td>\n",
       "    </tr>\n",
       "    <tr>\n",
       "      <th>2022-01-11 00:00:00.000</th>\n",
       "      <td>ETHUSD_PERP</td>\n",
       "      <td>8</td>\n",
       "      <td>0.000018</td>\n",
       "    </tr>\n",
       "    <tr>\n",
       "      <th>2022-01-10 16:00:00.000</th>\n",
       "      <td>ETHUSD_PERP</td>\n",
       "      <td>8</td>\n",
       "      <td>-0.000065</td>\n",
       "    </tr>\n",
       "    <tr>\n",
       "      <th>2022-01-10 08:00:00.000</th>\n",
       "      <td>ETHUSD_PERP</td>\n",
       "      <td>8</td>\n",
       "      <td>-0.000050</td>\n",
       "    </tr>\n",
       "    <tr>\n",
       "      <th>...</th>\n",
       "      <td>...</td>\n",
       "      <td>...</td>\n",
       "      <td>...</td>\n",
       "    </tr>\n",
       "    <tr>\n",
       "      <th>2020-08-19 16:00:00.000</th>\n",
       "      <td>ETHUSD_PERP</td>\n",
       "      <td>8</td>\n",
       "      <td>0.000573</td>\n",
       "    </tr>\n",
       "    <tr>\n",
       "      <th>2020-08-19 08:00:00.000</th>\n",
       "      <td>ETHUSD_PERP</td>\n",
       "      <td>8</td>\n",
       "      <td>0.000524</td>\n",
       "    </tr>\n",
       "    <tr>\n",
       "      <th>2020-08-19 00:00:00.000</th>\n",
       "      <td>ETHUSD_PERP</td>\n",
       "      <td>8</td>\n",
       "      <td>-0.000822</td>\n",
       "    </tr>\n",
       "    <tr>\n",
       "      <th>2020-08-18 16:00:00.001</th>\n",
       "      <td>ETHUSD_PERP</td>\n",
       "      <td>8</td>\n",
       "      <td>-0.001017</td>\n",
       "    </tr>\n",
       "    <tr>\n",
       "      <th>2020-08-18 08:00:00.000</th>\n",
       "      <td>ETHUSD_PERP</td>\n",
       "      <td>8</td>\n",
       "      <td>0.001287</td>\n",
       "    </tr>\n",
       "  </tbody>\n",
       "</table>\n",
       "<p>1535 rows × 3 columns</p>\n",
       "</div>"
      ],
      "text/plain": [
       "                              symbol  fundingIntervalHours  lastFundingRate\n",
       "calcTime                                                                   \n",
       "2022-01-11 16:00:00.011  ETHUSD_PERP                     8        -0.000077\n",
       "2022-01-11 08:00:00.000  ETHUSD_PERP                     8         0.000024\n",
       "2022-01-11 00:00:00.000  ETHUSD_PERP                     8         0.000018\n",
       "2022-01-10 16:00:00.000  ETHUSD_PERP                     8        -0.000065\n",
       "2022-01-10 08:00:00.000  ETHUSD_PERP                     8        -0.000050\n",
       "...                              ...                   ...              ...\n",
       "2020-08-19 16:00:00.000  ETHUSD_PERP                     8         0.000573\n",
       "2020-08-19 08:00:00.000  ETHUSD_PERP                     8         0.000524\n",
       "2020-08-19 00:00:00.000  ETHUSD_PERP                     8        -0.000822\n",
       "2020-08-18 16:00:00.001  ETHUSD_PERP                     8        -0.001017\n",
       "2020-08-18 08:00:00.000  ETHUSD_PERP                     8         0.001287\n",
       "\n",
       "[1535 rows x 3 columns]"
      ]
     },
     "execution_count": 89,
     "metadata": {},
     "output_type": "execute_result"
    }
   ],
   "source": [
    "df = pd.concat(\n",
    "  [load_funding_history(SYMBOL), load_funding_history(SYMBOL, page=2)]\n",
    ")\n",
    "\n",
    "print(df.lastFundingRate[::-1].sum())\n",
    "print(df.index[-1], df.index[0])\n",
    "\n",
    "df\n"
   ]
  },
  {
   "cell_type": "code",
   "execution_count": 92,
   "metadata": {},
   "outputs": [
    {
     "data": {
      "text/plain": [
       "<matplotlib.axes._subplots.AxesSubplot at 0x7f9c0c812f10>"
      ]
     },
     "execution_count": 92,
     "metadata": {},
     "output_type": "execute_result"
    },
    {
     "data": {
      "image/png": "[encoded data removed]",
      "text/plain": [
       "<Figure size 432x288 with 1 Axes>"
      ]
     },
     "metadata": {
      "needs_background": "light"
     },
     "output_type": "display_data"
    }
   ],
   "source": [
    "growth = df.lastFundingRate[::-1].cumsum()\n",
    "\n",
    "growth.plot()"
   ]
  },
  {
   "cell_type": "code",
   "execution_count": 94,
   "metadata": {},
   "outputs": [
    {
     "data": {
      "text/plain": [
       "<matplotlib.axes._subplots.AxesSubplot at 0x7f9c0c9bf6d0>"
      ]
     },
     "execution_count": 94,
     "metadata": {},
     "output_type": "execute_result"
    },
    {
     "data": {
      "image/png": "[encoded data removed]",
      "text/plain": [
       "<Figure size 432x288 with 1 Axes>"
      ]
     },
     "metadata": {
      "needs_background": "light"
     },
     "output_type": "display_data"
    }
   ],
   "source": [
    "dd = growth - growth.cummax()\n",
    "\n",
    "dd.plot()"
   ]
  }
 ],
 "metadata": {
  "interpreter": {
   "hash": "40d3a090f54c6569ab1632332b64b2c03c39dcf918b08424e98f38b5ae0af88f"
  },
  "kernelspec": {
   "display_name": "Python 3.7.6 64-bit ('base': conda)",
   "language": "python",
   "name": "python3"
  },
  "language_info": {
   "codemirror_mode": {
    "name": "ipython",
    "version": 3
   },
   "file_extension": ".py",
   "mimetype": "text/x-python",
   "name": "python",
   "nbconvert_exporter": "python",
   "pygments_lexer": "ipython3",
   "version": "3.7.6"
  },
  "orig_nbformat": 4
 },
 "nbformat": 4,
 "nbformat_minor": 2
}
